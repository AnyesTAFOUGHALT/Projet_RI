{
 "cells": [
  {
   "cell_type": "code",
   "execution_count": 8,
   "metadata": {},
   "outputs": [],
   "source": [
    "import ir_datasets"
   ]
  },
  {
   "cell_type": "markdown",
   "metadata": {},
   "source": [
    "# TREC-DL-2019 Dataset"
   ]
  },
  {
   "cell_type": "code",
   "execution_count": 9,
   "metadata": {},
   "outputs": [
    {
     "name": "stdout",
     "output_type": "stream",
     "text": [
      "GenericQuery(query_id='1108939', text='what slows down the flow of blood')\n",
      "GenericQuery(query_id='1112389', text='what is the county for grand rapids, mn')\n",
      "GenericQuery(query_id='792752', text='what is ruclip')\n",
      "GenericQuery(query_id='1119729', text='what do you do when you have a nosebleed from having your nose')\n",
      "GenericQuery(query_id='1105095', text='where is sugar lake lodge located')\n"
     ]
    }
   ],
   "source": [
    "trec_dataset = ir_datasets.load(\"msmarco-document/trec-dl-2019\")\n",
    "for query in trec_dataset.queries_iter()[:5]:\n",
    "    print(query) # namedtuple<query_id, text>\n",
    "\n"
   ]
  },
  {
   "cell_type": "code",
   "execution_count": 12,
   "metadata": {},
   "outputs": [],
   "source": [
    "for doc in trec_dataset.docs_iter()[:1]:\n",
    "    print(doc) \n"
   ]
  },
  {
   "cell_type": "code",
   "execution_count": 10,
   "metadata": {},
   "outputs": [
    {
     "data": {
      "text/plain": [
       "{'query_id': str, 'text': str}"
      ]
     },
     "execution_count": 10,
     "metadata": {},
     "output_type": "execute_result"
    }
   ],
   "source": [
    "trec_dataset.queries_cls().__annotations__"
   ]
  },
  {
   "cell_type": "code",
   "execution_count": 16,
   "metadata": {},
   "outputs": [
    {
     "data": {
      "text/plain": [
       "{'doc_id': str, 'url': str, 'title': str, 'body': str}"
      ]
     },
     "execution_count": 16,
     "metadata": {},
     "output_type": "execute_result"
    }
   ],
   "source": [
    "trec_dataset.docs_cls().__annotations__"
   ]
  },
  {
   "cell_type": "code",
   "execution_count": 11,
   "metadata": {},
   "outputs": [
    {
     "name": "stdout",
     "output_type": "stream",
     "text": [
      "We have  3213835  documents in TREC-DL 2019\n",
      "We have  200  queries in TREC-DL 2019\n"
     ]
    }
   ],
   "source": [
    "print(\"We have \",trec_dataset.docs_count(),\" documents in TREC-DL 2019\")\n",
    "print(\"We have \",trec_dataset.queries_count(), \" queries in TREC-DL 2019\")"
   ]
  },
  {
   "cell_type": "markdown",
   "metadata": {},
   "source": [
    "# ANTIQUE Dataset"
   ]
  },
  {
   "cell_type": "markdown",
   "metadata": {},
   "source": [
    "## Train"
   ]
  },
  {
   "cell_type": "code",
   "execution_count": 4,
   "metadata": {},
   "outputs": [],
   "source": [
    "antique_dataset = ir_datasets.load(\"antique/train\")\n",
    "for query in antique_dataset.queries_iter()[:2]:\n",
    "    query # namedtuple<query_id, text>"
   ]
  },
  {
   "cell_type": "code",
   "execution_count": null,
   "metadata": {},
   "outputs": [],
   "source": [
    "for doc in antique_dataset.docs_iter()[:1]:\n",
    "    print(doc) \n"
   ]
  },
  {
   "cell_type": "code",
   "execution_count": 5,
   "metadata": {},
   "outputs": [
    {
     "data": {
      "text/plain": [
       "{'query_id': str, 'text': str}"
      ]
     },
     "execution_count": 5,
     "metadata": {},
     "output_type": "execute_result"
    }
   ],
   "source": [
    "antique_dataset.queries_cls().__annotations__"
   ]
  },
  {
   "cell_type": "code",
   "execution_count": 6,
   "metadata": {},
   "outputs": [
    {
     "data": {
      "text/plain": [
       "{'doc_id': str, 'text': str}"
      ]
     },
     "execution_count": 6,
     "metadata": {},
     "output_type": "execute_result"
    }
   ],
   "source": [
    "antique_dataset.docs_cls().__annotations__"
   ]
  },
  {
   "cell_type": "code",
   "execution_count": 12,
   "metadata": {},
   "outputs": [
    {
     "name": "stdout",
     "output_type": "stream",
     "text": [
      "We have  403666  documents in Antique\n",
      "We have  2426  queries in Antique\n"
     ]
    }
   ],
   "source": [
    "print(\"We have \",antique_dataset.docs_count(),\" documents in Antique\")\n",
    "print(\"We have \",antique_dataset.queries_count(), \" queries in Antique\")"
   ]
  },
  {
   "cell_type": "markdown",
   "metadata": {},
   "source": [
    "## Test"
   ]
  },
  {
   "cell_type": "code",
   "execution_count": 14,
   "metadata": {},
   "outputs": [
    {
     "name": "stderr",
     "output_type": "stream",
     "text": [
      "[INFO] [starting] https://ciir.cs.umass.edu/downloads/Antique/antique-test-queries.txt\n",
      "[INFO] [finished] https://ciir.cs.umass.edu/downloads/Antique/antique-test-queries.txt: [00:00] [11.4kB] [22.0MB/s]\n",
      "                                                                                                 \r"
     ]
    }
   ],
   "source": [
    "antique_test_dataset = ir_datasets.load(\"antique/test\")\n",
    "for query in antique_test_dataset.queries_iter()[:2]:\n",
    "    query # namedtuple<query_id, text>"
   ]
  },
  {
   "cell_type": "code",
   "execution_count": 16,
   "metadata": {},
   "outputs": [],
   "source": [
    "for doc in antique_test_dataset.docs_iter()[:1]:\n",
    "    print(doc) \n"
   ]
  },
  {
   "cell_type": "code",
   "execution_count": 17,
   "metadata": {},
   "outputs": [
    {
     "data": {
      "text/plain": [
       "{'query_id': str, 'text': str}"
      ]
     },
     "execution_count": 17,
     "metadata": {},
     "output_type": "execute_result"
    }
   ],
   "source": [
    "antique_test_dataset.queries_cls().__annotations__"
   ]
  },
  {
   "cell_type": "code",
   "execution_count": 18,
   "metadata": {},
   "outputs": [
    {
     "data": {
      "text/plain": [
       "{'doc_id': str, 'text': str}"
      ]
     },
     "execution_count": 18,
     "metadata": {},
     "output_type": "execute_result"
    }
   ],
   "source": [
    "antique_test_dataset.docs_cls().__annotations__"
   ]
  },
  {
   "cell_type": "code",
   "execution_count": 19,
   "metadata": {},
   "outputs": [
    {
     "name": "stdout",
     "output_type": "stream",
     "text": [
      "We have  403666  documents in Antique Test\n",
      "We have  200  queries in Antique Test\n"
     ]
    }
   ],
   "source": [
    "print(\"We have \",antique_test_dataset.docs_count(),\" documents in Antique Test\")\n",
    "print(\"We have \",antique_test_dataset.queries_count(), \" queries in Antique Test\")"
   ]
  },
  {
   "cell_type": "code",
   "execution_count": 25,
   "metadata": {},
   "outputs": [
    {
     "ename": "AttributeError",
     "evalue": "docpairs_cls",
     "output_type": "error",
     "traceback": [
      "\u001b[0;31m---------------------------------------------------------------------------\u001b[0m",
      "\u001b[0;31mAttributeError\u001b[0m                            Traceback (most recent call last)",
      "Cell \u001b[0;32mIn[25], line 1\u001b[0m\n\u001b[0;32m----> 1\u001b[0m \u001b[38;5;28mprint\u001b[39m(\u001b[43mantique_dataset\u001b[49m\u001b[38;5;241;43m.\u001b[39;49m\u001b[43mdocpairs_cls\u001b[49m()\u001b[38;5;241m.\u001b[39m\u001b[38;5;18m__annotations__\u001b[39m)\n",
      "File \u001b[0;32m~/.local/lib/python3.8/site-packages/ir_datasets/datasets/base.py:51\u001b[0m, in \u001b[0;36mDataset.__getattr__\u001b[0;34m(self, attr)\u001b[0m\n\u001b[1;32m     49\u001b[0m     \u001b[38;5;28;01mif\u001b[39;00m \u001b[38;5;28mhasattr\u001b[39m(cons, attr):\n\u001b[1;32m     50\u001b[0m         \u001b[38;5;28;01mreturn\u001b[39;00m \u001b[38;5;28mgetattr\u001b[39m(cons, attr)\n\u001b[0;32m---> 51\u001b[0m \u001b[38;5;28;01mraise\u001b[39;00m \u001b[38;5;167;01mAttributeError\u001b[39;00m(attr)\n",
      "\u001b[0;31mAttributeError\u001b[0m: docpairs_cls"
     ]
    }
   ],
   "source": [
    "print(antique_dataset.docpairs_cls().__annotations__)"
   ]
  }
 ],
 "metadata": {
  "kernelspec": {
   "display_name": "Python 3",
   "language": "python",
   "name": "python3"
  },
  "language_info": {
   "codemirror_mode": {
    "name": "ipython",
    "version": 3
   },
   "file_extension": ".py",
   "mimetype": "text/x-python",
   "name": "python",
   "nbconvert_exporter": "python",
   "pygments_lexer": "ipython3",
   "version": "3.8.10"
  }
 },
 "nbformat": 4,
 "nbformat_minor": 2
}
